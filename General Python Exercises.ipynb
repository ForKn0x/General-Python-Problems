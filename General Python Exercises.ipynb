{
 "cells": [
  {
   "cell_type": "code",
   "execution_count": 1,
   "id": "3d3a6264",
   "metadata": {
    "scrolled": true
   },
   "outputs": [],
   "source": [
    "temp = 'Hello my name is saugat'"
   ]
  },
  {
   "cell_type": "code",
   "execution_count": 2,
   "id": "20c82cec",
   "metadata": {},
   "outputs": [],
   "source": [
    "x = [1,2,3,4,5]"
   ]
  },
  {
   "cell_type": "code",
   "execution_count": 3,
   "id": "c849a9aa",
   "metadata": {},
   "outputs": [],
   "source": [
    "def revs(temp):\n",
    "    rev = []\n",
    "    for i in range(0, len(temp)):\n",
    "        if i!=0:\n",
    "            rev.append(temp[-i])\n",
    "        else:\n",
    "            a = temp[i]\n",
    "    rev.append(a)\n",
    "    \n",
    "    print(rev)"
   ]
  },
  {
   "cell_type": "code",
   "execution_count": 4,
   "id": "a2a30bbb",
   "metadata": {},
   "outputs": [
    {
     "name": "stdout",
     "output_type": "stream",
     "text": [
      "['t', 'a', 'g', 'u', 'a', 's', ' ', 's', 'i', ' ', 'e', 'm', 'a', 'n', ' ', 'y', 'm', ' ', 'o', 'l', 'l', 'e', 'H']\n"
     ]
    }
   ],
   "source": [
    "revs(temp)"
   ]
  },
  {
   "cell_type": "code",
   "execution_count": 5,
   "id": "500a31e0",
   "metadata": {},
   "outputs": [
    {
     "name": "stdout",
     "output_type": "stream",
     "text": [
      "[5, 4, 3, 2, 1]\n"
     ]
    }
   ],
   "source": [
    "revs(x)"
   ]
  },
  {
   "cell_type": "code",
   "execution_count": 6,
   "id": "fb880647",
   "metadata": {},
   "outputs": [
    {
     "name": "stdout",
     "output_type": "stream",
     "text": [
      "['a', 'h', 'd', 'd', 'u', 'b']\n"
     ]
    }
   ],
   "source": [
    "temp = 'buddha'\n",
    "revs(temp)"
   ]
  },
  {
   "cell_type": "code",
   "execution_count": 7,
   "id": "6518f31d",
   "metadata": {},
   "outputs": [],
   "source": [
    "def median(x,y):\n",
    "    merge = x + y\n",
    "    merge.sort()\n",
    "    print(merge)\n",
    "    if len(merge) % 2 != 0:\n",
    "        med = (len(merge) + 1) / 2\n",
    "        ans = merge[int(med)-1]\n",
    "    else:\n",
    "        a = merge[int(len(merge)/2)-1]\n",
    "        b = merge[(int(len(merge)/2))]\n",
    "        ans = (a + b)/2\n",
    "    \n",
    "    return ans"
   ]
  },
  {
   "cell_type": "code",
   "execution_count": 8,
   "id": "4610977f",
   "metadata": {},
   "outputs": [
    {
     "name": "stdout",
     "output_type": "stream",
     "text": [
      "[1, 2, 3, 4]\n"
     ]
    },
    {
     "data": {
      "text/plain": [
       "2.5"
      ]
     },
     "execution_count": 8,
     "metadata": {},
     "output_type": "execute_result"
    }
   ],
   "source": [
    "x = [1,3]\n",
    "y = [2,4]\n",
    "median(x,y)"
   ]
  },
  {
   "cell_type": "code",
   "execution_count": 9,
   "id": "5e46dce3",
   "metadata": {},
   "outputs": [
    {
     "name": "stdout",
     "output_type": "stream",
     "text": [
      "[1, 2, 3]\n"
     ]
    },
    {
     "data": {
      "text/plain": [
       "2"
      ]
     },
     "execution_count": 9,
     "metadata": {},
     "output_type": "execute_result"
    }
   ],
   "source": [
    "x = [1,3]\n",
    "y = [2]\n",
    "median(x,y)"
   ]
  },
  {
   "cell_type": "code",
   "execution_count": 10,
   "id": "04d629bd",
   "metadata": {},
   "outputs": [],
   "source": [
    "def revx(strx):\n",
    "    strx = str(strx)\n",
    "    if strx[0] != '-':\n",
    "        rev = strx[len(strx)::-1]\n",
    "    else: \n",
    "        rev = strx[len(strx):0:-1]\n",
    "        rev = '-' + rev\n",
    "    print(int(rev))"
   ]
  },
  {
   "cell_type": "code",
   "execution_count": 11,
   "id": "3814a49b",
   "metadata": {
    "scrolled": true
   },
   "outputs": [
    {
     "name": "stdout",
     "output_type": "stream",
     "text": [
      "-21\n"
     ]
    }
   ],
   "source": [
    "revx(-120)"
   ]
  },
  {
   "cell_type": "code",
   "execution_count": 12,
   "id": "4beb2d1e",
   "metadata": {},
   "outputs": [
    {
     "name": "stdout",
     "output_type": "stream",
     "text": [
      "321\n"
     ]
    }
   ],
   "source": [
    "revx(123)"
   ]
  },
  {
   "cell_type": "code",
   "execution_count": 13,
   "id": "f2c23c4a",
   "metadata": {},
   "outputs": [],
   "source": [
    "def palin(num):\n",
    "    num = str(num)\n",
    "    rev = num[len(num)::-1]\n",
    "    if rev == num:\n",
    "        return True\n",
    "    else:\n",
    "        return False"
   ]
  },
  {
   "cell_type": "code",
   "execution_count": 14,
   "id": "65a35172",
   "metadata": {},
   "outputs": [
    {
     "data": {
      "text/plain": [
       "False"
      ]
     },
     "execution_count": 14,
     "metadata": {},
     "output_type": "execute_result"
    }
   ],
   "source": [
    "palin(123)"
   ]
  },
  {
   "cell_type": "code",
   "execution_count": 15,
   "id": "29b0c906",
   "metadata": {},
   "outputs": [
    {
     "data": {
      "text/plain": [
       "True"
      ]
     },
     "execution_count": 15,
     "metadata": {},
     "output_type": "execute_result"
    }
   ],
   "source": [
    "palin(121)"
   ]
  },
  {
   "cell_type": "code",
   "execution_count": 16,
   "id": "a68d75c3",
   "metadata": {},
   "outputs": [],
   "source": [
    "def merge(lisoflis):\n",
    "    lis = []\n",
    "    for i in lisoflis:\n",
    "        for j in i:\n",
    "            lis.append(j)\n",
    "    \n",
    "    lis.sort()\n",
    "    print(lis)"
   ]
  },
  {
   "cell_type": "code",
   "execution_count": 17,
   "id": "56d8de0f",
   "metadata": {},
   "outputs": [
    {
     "name": "stdout",
     "output_type": "stream",
     "text": [
      "[1, 2, 3, 4, 5, 6, 7]\n"
     ]
    }
   ],
   "source": [
    "merge([[1,4,5],[3,6],[2,7]])"
   ]
  },
  {
   "cell_type": "code",
   "execution_count": 18,
   "id": "7aad9927",
   "metadata": {},
   "outputs": [],
   "source": [
    "def remv(lis,k):\n",
    "    i = 0\n",
    "    temp = lis[0:]\n",
    "    print(temp)\n",
    "    print(lis)\n",
    "    for x in lis:\n",
    "        if x == k:\n",
    "            temp.remove(x)\n",
    "            i = i + 1\n",
    "            \n",
    "    length = len(temp)\n",
    "    \n",
    "    for y in range(0,i):\n",
    "        temp.append('_')\n",
    "        \n",
    "    print('length is', length)\n",
    "    print(temp)"
   ]
  },
  {
   "cell_type": "code",
   "execution_count": 19,
   "id": "59ffdf99",
   "metadata": {},
   "outputs": [
    {
     "name": "stdout",
     "output_type": "stream",
     "text": [
      "[0, 1, 2, 2, 3, 0, 4, 2]\n",
      "[0, 1, 2, 2, 3, 0, 4, 2]\n",
      "length is 5\n",
      "[0, 1, 3, 0, 4, '_', '_', '_']\n"
     ]
    }
   ],
   "source": [
    "remv([0,1,2,2,3,0,4,2],2)"
   ]
  },
  {
   "cell_type": "code",
   "execution_count": 20,
   "id": "61fada49",
   "metadata": {},
   "outputs": [],
   "source": [
    "def conc(lis):\n",
    "    temp = []\n",
    "    final = []\n",
    "    lis.sort()\n",
    "    for i in range(0, len(lis)):\n",
    "        if lis[i] == lis[i-1] + 1:\n",
    "            temp.append(lis[i])\n",
    "        else:\n",
    "            if i == 0 :\n",
    "                temp.append(lis[i])\n",
    "            else:\n",
    "                final.append(temp)\n",
    "                temp = [lis[i]]\n",
    "                \n",
    "    final.append(temp)\n",
    "        \n",
    "    print(final)"
   ]
  },
  {
   "cell_type": "code",
   "execution_count": 21,
   "id": "2ba28b9b",
   "metadata": {},
   "outputs": [
    {
     "name": "stdout",
     "output_type": "stream",
     "text": [
      "[[13, 14], [99], [101, 102, 103], [105]]\n"
     ]
    }
   ],
   "source": [
    "conc([101,102,13,14,99,105,103])"
   ]
  },
  {
   "cell_type": "code",
   "execution_count": null,
   "id": "f352c9e4",
   "metadata": {},
   "outputs": [],
   "source": []
  }
 ],
 "metadata": {
  "kernelspec": {
   "display_name": "Python 3 (ipykernel)",
   "language": "python",
   "name": "python3"
  },
  "language_info": {
   "codemirror_mode": {
    "name": "ipython",
    "version": 3
   },
   "file_extension": ".py",
   "mimetype": "text/x-python",
   "name": "python",
   "nbconvert_exporter": "python",
   "pygments_lexer": "ipython3",
   "version": "3.11.1"
  }
 },
 "nbformat": 4,
 "nbformat_minor": 5
}
